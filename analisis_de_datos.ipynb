{
  "nbformat": 4,
  "nbformat_minor": 0,
  "metadata": {
    "colab": {
      "provenance": [],
      "authorship_tag": "ABX9TyMqL+Eza3UuCeW/HShpd98G",
      "include_colab_link": true
    },
    "kernelspec": {
      "name": "python3",
      "display_name": "Python 3"
    },
    "language_info": {
      "name": "python"
    }
  },
  "cells": [
    {
      "cell_type": "markdown",
      "metadata": {
        "id": "view-in-github",
        "colab_type": "text"
      },
      "source": [
        "<a href=\"https://colab.research.google.com/github/meeel29/Analisis-de-datos-/blob/main/analisis_de_datos.ipynb\" target=\"_parent\"><img src=\"https://colab.research.google.com/assets/colab-badge.svg\" alt=\"Open In Colab\"/></a>"
      ]
    },
    {
      "cell_type": "code",
      "source": [
        "# --- 1. Dataset Titanic (tabular) ---\n",
        "import pandas as pd\n",
        "from google.colab import drive\n",
        "drive.mount('/content/drive')\n",
        "df_titanic = pd.read_csv(\"/content/drive/MyDrive/Colab Notebooks/train.csv\")"
      ],
      "metadata": {
        "colab": {
          "base_uri": "https://localhost:8080/"
        },
        "id": "EXG6RVbjbYNB",
        "outputId": "494bde18-1b30-4ca2-898d-f59b2ed9c1d3"
      },
      "execution_count": null,
      "outputs": [
        {
          "output_type": "stream",
          "name": "stdout",
          "text": [
            "Drive already mounted at /content/drive; to attempt to forcibly remount, call drive.mount(\"/content/drive\", force_remount=True).\n"
          ]
        }
      ]
    },
    {
      "cell_type": "code",
      "source": [
        "print(\"=== Titanic Dataset ===\")\n",
        "print(\"Shape:\", df_titanic.shape)\n",
        "print(\"Columnas:\", df_titanic.columns.tolist())\n",
        "print(df_titanic.info())\n",
        "print(df_titanic.head())"
      ],
      "metadata": {
        "colab": {
          "base_uri": "https://localhost:8080/"
        },
        "id": "6pwkiAsbc0tT",
        "outputId": "e6a645ee-d1ae-44ce-a986-71030eb926dd"
      },
      "execution_count": null,
      "outputs": [
        {
          "output_type": "stream",
          "name": "stdout",
          "text": [
            "=== Titanic Dataset ===\n",
            "Shape: (418, 2)\n",
            "Columnas: ['PassengerId', 'Survived']\n",
            "<class 'pandas.core.frame.DataFrame'>\n",
            "RangeIndex: 418 entries, 0 to 417\n",
            "Data columns (total 2 columns):\n",
            " #   Column       Non-Null Count  Dtype\n",
            "---  ------       --------------  -----\n",
            " 0   PassengerId  418 non-null    int64\n",
            " 1   Survived     418 non-null    int64\n",
            "dtypes: int64(2)\n",
            "memory usage: 6.7 KB\n",
            "None\n",
            "   PassengerId  Survived\n",
            "0          892         0\n",
            "1          893         1\n",
            "2          894         0\n",
            "3          895         0\n",
            "4          896         1\n"
          ]
        }
      ]
    },
    {
      "cell_type": "code",
      "source": [
        "# --- 2. Dataset MNIST (imágenes) ---\n",
        "from tensorflow.keras.datasets import mnist\n",
        "import matplotlib.pyplot as plt\n",
        "\n",
        "(x_train, y_train), (x_test, y_test) = mnist.load_data()\n",
        "\n",
        "print(\"\\n=== MNIST Dataset ===\")\n",
        "print(\"Train:\", x_train.shape, \"Test:\", x_test.shape)\n",
        "print(\"Clases únicas:\", set(y_train))\n",
        "\n",
        "# Mostrar un ejemplo\n",
        "plt.imshow(x_train[0], cmap=\"gray\")\n",
        "plt.title(f\"Etiqueta: {y_train[0]}\")\n",
        "plt.show()\n"
      ],
      "metadata": {
        "colab": {
          "base_uri": "https://localhost:8080/",
          "height": 521
        },
        "id": "jFzPXte0c_FI",
        "outputId": "2de693c0-35da-4996-fab5-82c555bfde01"
      },
      "execution_count": null,
      "outputs": [
        {
          "output_type": "stream",
          "name": "stdout",
          "text": [
            "\n",
            "=== MNIST Dataset ===\n",
            "Train: (60000, 28, 28) Test: (10000, 28, 28)\n",
            "Clases únicas: {np.uint8(0), np.uint8(1), np.uint8(2), np.uint8(3), np.uint8(4), np.uint8(5), np.uint8(6), np.uint8(7), np.uint8(8), np.uint8(9)}\n"
          ]
        },
        {
          "output_type": "display_data",
          "data": {
            "text/plain": [
              "<Figure size 640x480 with 1 Axes>"
            ],
            "image/png": "[encoded data removed]"
          },
          "metadata": {}
        }
      ]
    },
    {
      "cell_type": "code",
      "execution_count": null,
      "metadata": {
        "colab": {
          "base_uri": "https://localhost:8080/"
        },
        "id": "vdvVM9CZao_L",
        "outputId": "9e4277d2-b3b3-47a1-f440-bdd54e53603b"
      },
      "outputs": [
        {
          "output_type": "stream",
          "name": "stdout",
          "text": [
            "\n",
            "=== IMDB Dataset ===\n",
            "Train: 25000 Test: 25000\n",
            "Ejemplo de longitud de reseña: 218\n",
            "\n",
            "Primer review decodificado:\n",
            " ? this film was just brilliant casting location scenery story direction everyone's really suited the part they played and you could just imagine being there robert ? is an amazing actor and now the same being director ? father came from the same scottish island as myself so i loved the fact there was a real connection with this film the witty remarks throughout the film were great it was just bril ...\n",
            "Etiqueta: Positivo\n"
          ]
        }
      ],
      "source": [
        "\n",
        "# --- 3. Dataset IMDB Reviews (texto) ---\n",
        "from tensorflow.keras.datasets import imdb\n",
        "\n",
        "(x_train, y_train), (x_test, y_test) = imdb.load_data(num_words=10000)\n",
        "print(\"\\n=== IMDB Dataset ===\")\n",
        "print(\"Train:\", len(x_train), \"Test:\", len(x_test))\n",
        "print(\"Ejemplo de longitud de reseña:\", len(x_train[0])\n",
        ")\n",
        "# Decodificar reseña a texto\n",
        "word_index = imdb.get_word_index()\n",
        "reverse_word_index = {v: k for (k, v) in word_index.items()}\n",
        "\n",
        "decoded_review = \" \".join([reverse_word_index.get(i-3, \"?\") for i in x_train[0]])\n",
        "print(\"\\nPrimer review decodificado:\\n\", decoded_review[:400], \"...\")\n",
        "print(\"Etiqueta:\", \"Positivo\" if y_train[0] == 1 else \"Negativo\")"
      ]
    }
  ]
}